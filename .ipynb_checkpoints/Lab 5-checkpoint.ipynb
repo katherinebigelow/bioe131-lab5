{
 "cells": [
  {
   "cell_type": "markdown",
   "metadata": {},
   "source": [
    "# Lab 5\n",
    "\n",
    "1. pull sequences from the paper\n",
    "\n",
    "3. Run RNAfold from within the notebook\n",
    "4. (1) Start by generating one plot per riboswitch (YES-1, NOT-1, AND-1, and OR-1) with default parameters. Compare each plot to the native conformation given in the publication. Are they the same? Are they different? Are there any stem-loop structures that don’t match up?Whatmight explain the differences? See if you can track down the parameters the authors used and compare them to the default RNAfold parameters (e.g., temperature, algorithm, etc).\n",
    "5. (2) Next, simulate OBS binding in YES-1 and NOT-1. The idea here is that we’d like to see what conformation these riboswitches adopt when their target OBS is bound.To simulate OBS binding, we tell RNAfold to prevent the blue OBS region (that we noted down in our table above) from pairing to any other region of the riboswitch.To do this, we pass the –C parameter to RNAfold using a file which you will have to generate.\n",
    "\n",
    "6. (2) Next, simulate OBS binding in YES-1 and NOT-1. The idea here is that we’d like to see what conformation these riboswitches adopt when their target OBS is bound.To simulate OBS binding, we tell RNAfold to prevent the blue OBS region (that we noted down in our table above) from pairing to any other region of the riboswitch.To do this, we pass the –C parameter to RNAfold using a file which you will have to generate."
   ]
  },
  {
   "cell_type": "markdown",
   "metadata": {},
   "source": [
    "## Questions\n",
    "\n",
    "1. Will the AND-1 riboswitch cleave itself when both of its OBS are bound?\n",
    "  - Yes\n",
    "2. Will the OR-1 riboswitch cleave itself when neither of its OBS are bound? \n",
    "  - No\n",
    "3. What behavior do we expect from the YES-1 riboswitch?\n",
    "  - Self-cleaves when it gets a true input (ie when it is bound)\n",
    "  \n",
    "4. Please copy down the sequences for the YES-1 riboswitch from Figure 2a, the NOT-1 riboswitch in Figure 4a, the AND-1 riboswitch in Figure 5a, and the OR-1 riboswitch in Figure 6a"
   ]
  },
  {
   "cell_type": "code",
   "execution_count": 1,
   "metadata": {},
   "outputs": [
    {
     "name": "stdout",
     "output_type": "stream",
     "text": [
      "GGGCGACCCUGAUGAGCUUGAGUUUAGCUCGUCACUGUCCAGGUUCAAUCAGGCGAAACGGUGAAAGCCGUAGGUUGCCC\n"
     ]
    }
   ],
   "source": [
    "seq2a = \"GGGCGACC\" + \"CUGAUGA\" + \"GCUUGA\" + \"GUUU\"\n",
    "seq2a += \"AGCUCGUCACUG\" + \"UCCAGGUUCA\" + \"AUCAGGC\" + \"GAAACGGU\"\n",
    "seq2a += \"GAAAGCCGUA\" + \"GGUUGCCC\"\n",
    "print(seq2a)"
   ]
  },
  {
   "cell_type": "code",
   "execution_count": 2,
   "metadata": {},
   "outputs": [
    {
     "name": "stdout",
     "output_type": "stream",
     "text": [
      "GGCAGGUACAUACAGCUGAUGAGUCCCAAAUAGGACGAAACGCGACACACACCACUAAACCGUGCAGUGUUUUGCGUCCUGUAUUCCACUGC\n"
     ]
    }
   ],
   "source": [
    "seq4a = \"GGCAGGUACAUACAG\" + \"CUGAUGAGUCCC\" + \"AAAUAGGAC\"\n",
    "seq4a += \"GAAACGC\" + \"GACACACACCAC\" + \"UAAACCGUGCA\"\n",
    "seq4a += \"GUGUUUU\" + \"GCGUC\" + \"CUGUAUUCCACUGC\"\n",
    "print(seq4a)"
   ]
  },
  {
   "cell_type": "code",
   "execution_count": 3,
   "metadata": {},
   "outputs": [
    {
     "name": "stdout",
     "output_type": "stream",
     "text": [
      "GGGCGACCCUGAUGAGCUUGGUUUAGUAUUUACAGCUCCAUACAUGAGGUGUUAUCCCUAUGCAAGUUCGAUCAGGCGAAACGGUGAAAGCCGUAGGUUGCCCAGAGACAAU\n"
     ]
    }
   ],
   "source": [
    "seq5a = \"GGGCGACC\" + \"CUGAUGAGCUUGGUU\" + \"UAGUAU\" \n",
    "seq5a += \"UUACAGCUCCAUACAU\" + \"GAG\" + \"GUGUUAUCCCUAUGCA\"\n",
    "seq5a += \"AGUUC\" + \"GAUCAGGC\" + \"GAAACGGUGAAA\"\n",
    "seq5a += \"GCCGUA\" + \"GGUUGCCCAGAGACAAU\"\n",
    "print(seq5a)"
   ]
  },
  {
   "cell_type": "code",
   "execution_count": 5,
   "metadata": {},
   "outputs": [
    {
     "name": "stdout",
     "output_type": "stream",
     "text": [
      "GGGCGACCCUGAUGAGCUUGGUUGAGUAUUUACAGCUCCAUACAUGAGGUGUUCUCCCUACGCAAGUUCGAUCAGGCGAAACGGUGAAAGCCGUAGGUUGCCC\n"
     ]
    }
   ],
   "source": [
    "seq6a = \"GGGCGACCCUGAUGA\" + \"GCUUGGUUGAG\" + \"UAUUUACAGCUCCAUACAUG\"\n",
    "seq6a += \"AGGUGUUCUCCCUACGCAAG\"\n",
    "seq6a += \"UUCGAUCAGGC\"\n",
    "seq6a += \"GAAACGGUGAAAGCCGUA\"\n",
    "seq6a += \"GGUUGCCC\"\n",
    "print(seq6a)"
   ]
  },
  {
   "cell_type": "markdown",
   "metadata": {},
   "source": [
    "5. For each riboswitch, produce a table in your iPython notebook that contains the following information: (1) riboswitch name, (2) start and end coordinates of OBS-1 (blue region), (3) start and end coordinates of OBS-2 (blue region, only applicable to AND-1 and OR-1), and (4) start and end coordinates of the two red regions."
   ]
  },
  {
   "cell_type": "code",
   "execution_count": 6,
   "metadata": {
    "collapsed": true
   },
   "outputs": [],
   "source": [
    "table_info = {}\n",
    "table_info[\"index\"] = [\"obs-1\", \"obs-2\", \"red-1\", \"red-2\"]\n",
    "table_info[\"YES-1\"] = [(26, 47), (), (16,21), (49, 54)]\n",
    "table_info[\"NOT-1\"] = [(44, 66), (), (40, 43), (74, 77)]\n",
    "table_info[\"AND-1\"] = [(30, 45), (49, 64), (16, 23), (70, 77)]\n",
    "table_info[\"OR-1\"] =  [(27, 46), (47, 66), (16, 26), (67, 77)]"
   ]
  },
  {
   "cell_type": "code",
   "execution_count": null,
   "metadata": {
    "collapsed": true
   },
   "outputs": [],
   "source": [
    "import pandas as pd"
   ]
  },
  {
   "cell_type": "code",
   "execution_count": null,
   "metadata": {
    "collapsed": true
   },
   "outputs": [],
   "source": []
  }
 ],
 "metadata": {
  "kernelspec": {
   "display_name": "Python 3",
   "language": "python",
   "name": "python3"
  },
  "language_info": {
   "codemirror_mode": {
    "name": "ipython",
    "version": 3
   },
   "file_extension": ".py",
   "mimetype": "text/x-python",
   "name": "python",
   "nbconvert_exporter": "python",
   "pygments_lexer": "ipython3",
   "version": "3.6.3"
  }
 },
 "nbformat": 4,
 "nbformat_minor": 2
}
