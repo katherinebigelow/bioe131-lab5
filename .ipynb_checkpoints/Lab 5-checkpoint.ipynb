{
 "cells": [
  {
   "cell_type": "markdown",
   "metadata": {},
   "source": [
    "# Lab 5"
   ]
  },
  {
   "cell_type": "code",
   "execution_count": 40,
   "metadata": {
    "collapsed": true
   },
   "outputs": [],
   "source": [
    "import numpy as np"
   ]
  },
  {
   "cell_type": "markdown",
   "metadata": {},
   "source": [
    "## Questions\n",
    "\n",
    "1. Will the AND-1 riboswitch cleave itself when both of its OBS are bound?\n",
    "  - Yes\n",
    "2. Will the OR-1 riboswitch cleave itself when neither of its OBS are bound? \n",
    "  - No\n",
    "3. What behavior do we expect from the YES-1 riboswitch?\n",
    "  - Self-cleaves when it gets a true input (ie when it is bound)\n",
    "  \n",
    "4. Please copy down the sequences for the YES-1 riboswitch from Figure 2a, the NOT-1 riboswitch in Figure 4a, the AND-1 riboswitch in Figure 5a, and the OR-1 riboswitch in Figure 6a"
   ]
  },
  {
   "cell_type": "code",
   "execution_count": 1,
   "metadata": {},
   "outputs": [
    {
     "name": "stdout",
     "output_type": "stream",
     "text": [
      "GGGCGACCCUGAUGAGCUUGAGUUUAGCUCGUCACUGUCCAGGUUCAAUCAGGCGAAACGGUGAAAGCCGUAGGUUGCCC\n"
     ]
    }
   ],
   "source": [
    "seq2a = \"GGGCGACC\" + \"CUGAUGA\" + \"GCUUGA\" + \"GUUU\"\n",
    "seq2a += \"AGCUCGUCACUG\" + \"UCCAGGUUCA\" + \"AUCAGGC\" + \"GAAACGGU\"\n",
    "seq2a += \"GAAAGCCGUA\" + \"GGUUGCCC\"\n",
    "print(seq2a)"
   ]
  },
  {
   "cell_type": "code",
   "execution_count": 2,
   "metadata": {},
   "outputs": [
    {
     "name": "stdout",
     "output_type": "stream",
     "text": [
      "GGCAGGUACAUACAGCUGAUGAGUCCCAAAUAGGACGAAACGCGACACACACCACUAAACCGUGCAGUGUUUUGCGUCCUGUAUUCCACUGC\n"
     ]
    }
   ],
   "source": [
    "seq4a = \"GGCAGGUACAUACAG\" + \"CUGAUGAGUCCC\" + \"AAAUAGGAC\"\n",
    "seq4a += \"GAAACGC\" + \"GACACACACCAC\" + \"UAAACCGUGCA\"\n",
    "seq4a += \"GUGUUUU\" + \"GCGUC\" + \"CUGUAUUCCACUGC\"\n",
    "print(seq4a)"
   ]
  },
  {
   "cell_type": "code",
   "execution_count": 3,
   "metadata": {},
   "outputs": [
    {
     "name": "stdout",
     "output_type": "stream",
     "text": [
      "GGGCGACCCUGAUGAGCUUGGUUUAGUAUUUACAGCUCCAUACAUGAGGUGUUAUCCCUAUGCAAGUUCGAUCAGGCGAAACGGUGAAAGCCGUAGGUUGCCCAGAGACAAU\n"
     ]
    }
   ],
   "source": [
    "seq5a = \"GGGCGACC\" + \"CUGAUGAGCUUGGUU\" + \"UAGUAU\" \n",
    "seq5a += \"UUACAGCUCCAUACAU\" + \"GAG\" + \"GUGUUAUCCCUAUGCA\"\n",
    "seq5a += \"AGUUC\" + \"GAUCAGGC\" + \"GAAACGGUGAAA\"\n",
    "seq5a += \"GCCGUA\" + \"GGUUGCCCAGAGACAAU\"\n",
    "print(seq5a)"
   ]
  },
  {
   "cell_type": "code",
   "execution_count": 5,
   "metadata": {},
   "outputs": [
    {
     "name": "stdout",
     "output_type": "stream",
     "text": [
      "GGGCGACCCUGAUGAGCUUGGUUGAGUAUUUACAGCUCCAUACAUGAGGUGUUCUCCCUACGCAAGUUCGAUCAGGCGAAACGGUGAAAGCCGUAGGUUGCCC\n"
     ]
    }
   ],
   "source": [
    "seq6a = \"GGGCGACCCUGAUGA\" + \"GCUUGGUUGAG\" + \"UAUUUACAGCUCCAUACAUG\"\n",
    "seq6a += \"AGGUGUUCUCCCUACGCAAG\"\n",
    "seq6a += \"UUCGAUCAGGC\"\n",
    "seq6a += \"GAAACGGUGAAAGCCGUA\"\n",
    "seq6a += \"GGUUGCCC\"\n",
    "print(seq6a)"
   ]
  },
  {
   "cell_type": "markdown",
   "metadata": {},
   "source": [
    "#### For each riboswitch, produce a table in your iPython notebook that contains the following information: (1) riboswitch name, (2) start and end coordinates of OBS-1 (blue region), (3) start and end coordinates of OBS-2 (blue region, only applicable to AND-1 and OR-1), and (4) start and end coordinates of the two red regions."
   ]
  },
  {
   "cell_type": "code",
   "execution_count": 6,
   "metadata": {
    "collapsed": true
   },
   "outputs": [],
   "source": [
    "table_info = {}\n",
    "table_info[\"index\"] = [\"obs-1\", \"obs-2\", \"red-1\", \"red-2\"]\n",
    "table_info[\"YES-1\"] = [(26, 47), (), (16,21), (49, 54)]\n",
    "table_info[\"NOT-1\"] = [(44, 66), (), (40, 43), (74, 77)]\n",
    "table_info[\"AND-1\"] = [(30, 45), (49, 64), (16, 23), (70, 77)]\n",
    "table_info[\"OR-1\"] =  [(27, 46), (47, 66), (16, 26), (67, 77)]"
   ]
  },
  {
   "cell_type": "code",
   "execution_count": 7,
   "metadata": {
    "collapsed": true
   },
   "outputs": [],
   "source": [
    "import pandas as pd"
   ]
  },
  {
   "cell_type": "code",
   "execution_count": 10,
   "metadata": {
    "collapsed": true
   },
   "outputs": [],
   "source": [
    "show_table = pd.DataFrame(data = table_info, index = table_info[\"index\"])\n"
   ]
  },
  {
   "cell_type": "code",
   "execution_count": 11,
   "metadata": {},
   "outputs": [
    {
     "data": {
      "text/html": [
       "<div>\n",
       "<style>\n",
       "    .dataframe thead tr:only-child th {\n",
       "        text-align: right;\n",
       "    }\n",
       "\n",
       "    .dataframe thead th {\n",
       "        text-align: left;\n",
       "    }\n",
       "\n",
       "    .dataframe tbody tr th {\n",
       "        vertical-align: top;\n",
       "    }\n",
       "</style>\n",
       "<table border=\"1\" class=\"dataframe\">\n",
       "  <thead>\n",
       "    <tr style=\"text-align: right;\">\n",
       "      <th></th>\n",
       "      <th>AND-1</th>\n",
       "      <th>NOT-1</th>\n",
       "      <th>OR-1</th>\n",
       "      <th>YES-1</th>\n",
       "      <th>index</th>\n",
       "    </tr>\n",
       "  </thead>\n",
       "  <tbody>\n",
       "    <tr>\n",
       "      <th>obs-1</th>\n",
       "      <td>(30, 45)</td>\n",
       "      <td>(44, 66)</td>\n",
       "      <td>(27, 46)</td>\n",
       "      <td>(26, 47)</td>\n",
       "      <td>obs-1</td>\n",
       "    </tr>\n",
       "    <tr>\n",
       "      <th>obs-2</th>\n",
       "      <td>(49, 64)</td>\n",
       "      <td>()</td>\n",
       "      <td>(47, 66)</td>\n",
       "      <td>()</td>\n",
       "      <td>obs-2</td>\n",
       "    </tr>\n",
       "    <tr>\n",
       "      <th>red-1</th>\n",
       "      <td>(16, 23)</td>\n",
       "      <td>(40, 43)</td>\n",
       "      <td>(16, 26)</td>\n",
       "      <td>(16, 21)</td>\n",
       "      <td>red-1</td>\n",
       "    </tr>\n",
       "    <tr>\n",
       "      <th>red-2</th>\n",
       "      <td>(70, 77)</td>\n",
       "      <td>(74, 77)</td>\n",
       "      <td>(67, 77)</td>\n",
       "      <td>(49, 54)</td>\n",
       "      <td>red-2</td>\n",
       "    </tr>\n",
       "  </tbody>\n",
       "</table>\n",
       "</div>"
      ],
      "text/plain": [
       "          AND-1     NOT-1      OR-1     YES-1  index\n",
       "obs-1  (30, 45)  (44, 66)  (27, 46)  (26, 47)  obs-1\n",
       "obs-2  (49, 64)        ()  (47, 66)        ()  obs-2\n",
       "red-1  (16, 23)  (40, 43)  (16, 26)  (16, 21)  red-1\n",
       "red-2  (70, 77)  (74, 77)  (67, 77)  (49, 54)  red-2"
      ]
     },
     "execution_count": 11,
     "metadata": {},
     "output_type": "execute_result"
    }
   ],
   "source": [
    "show_table"
   ]
  },
  {
   "cell_type": "code",
   "execution_count": 13,
   "metadata": {
    "collapsed": true
   },
   "outputs": [],
   "source": [
    "import subprocess"
   ]
  },
  {
   "cell_type": "code",
   "execution_count": 22,
   "metadata": {},
   "outputs": [
    {
     "name": "stdout",
     "output_type": "stream",
     "text": [
      ">yes-1\n",
      "GGGCGACCCUGAUGAGCUUGAGUUUAGCUCGUCACUGUCCAGGUUCAAUCAGGCGAAACGGUGAAAGCCGUAGGUUGCCC\n",
      ">not-1\n",
      "GGCAGGUACAUACAGCUGAUGAGUCCCAAAUAGGACGAAACGCGACACACACCACUAAACCGUGCAGUGUUUUGCGUCCUGUAUUCCACUGC\n",
      ">and-1\n",
      "GGGCGACCCUGAUGAGCUUGGUUUAGUAUUUACAGCUCCAUACAUGAGGUGUUAUCCCUAUGCAAGUUCGAUCAGGCGAAACGGUGAAAGCCGUAGGUUGCCCAGAGACAAU\n",
      ">or-1\n",
      "GGGCGACCCUGAUGAGCUUGGUUGAGUAUUUACAGCUCCAUACAUGAGGUGUUCUCCCUACGCAAGUUCGAUCAGGCGAAACGGUGAAAGCCGUAGGUUGCCC\n"
     ]
    }
   ],
   "source": [
    "seqs = \">yes-1\\n\" + seq2a + \"\\n\" + \">not-1\\n\" + seq4a + \"\\n\" + \">and-1\\n\" + seq5a + \"\\n>or-1\\n\"  + seq6a\n",
    "print(seqs)"
   ]
  },
  {
   "cell_type": "code",
   "execution_count": 23,
   "metadata": {
    "collapsed": true
   },
   "outputs": [],
   "source": [
    "p=subprocess.run([\"C:\\Program Files (x86)\\ViennaRNA Package\\RNAfold.exe\"], input = bytes(seqs, 'ascii'),\n",
    "                stdout = subprocess.PIPE, stderr = subprocess.PIPE);"
   ]
  },
  {
   "cell_type": "code",
   "execution_count": 24,
   "metadata": {},
   "outputs": [
    {
     "name": "stdout",
     "output_type": "stream",
     "text": [
      ">yes-1\r\n",
      "GGGCGACCCUGAUGAGCUUGAGUUUAGCUCGUCACUGUCCAGGUUCAAUCAGGCGAAACGGUGAAAGCCGUAGGUUGCCC\r\n",
      "((((((((.(((((((((.......))))))))).((.((.(((...))).))))..(((((....))))).)))))))) (-33.00)\r\n",
      ">not-1\r\n",
      "GGCAGGUACAUACAGCUGAUGAGUCCCAAAUAGGACGAAACGCGACACACACCACUAAACCGUGCAGUGUUUUGCGUCCUGUAUUCCACUGC\r\n",
      ".((((....((((((.......((((......))))...((((((.((((..(((......)))..)))).)))))).))))))....)))) (-28.10)\r\n",
      ">and-1\r\n",
      "GGGCGACCCUGAUGAGCUUGGUUUAGUAUUUACAGCUCCAUACAUGAGGUGUUAUCCCUAUGCAAGUUCGAUCAGGCGAAACGGUGAAAGCCGUAGGUUGCCCAGAGACAAU\r\n",
      "((((((((((((((((((((...(((.....(((.(((.......))).))).....)))..))))))).))))).....(((((....))))).))))))))......... (-42.10)\r\n",
      ">or-1\r\n",
      "GGGCGACCCUGAUGAGCUUGGUUGAGUAUUUACAGCUCCAUACAUGAGGUGUUCUCCCUACGCAAGUUCGAUCAGGCGAAACGGUGAAAGCCGUAGGUUGCCC\r\n",
      "((((((((((((((((((((((.(((.....(((.(((.......))).))).)))...)).))))))).))))).....(((((....))))).)))))))) (-40.00)\r\n",
      "\n"
     ]
    }
   ],
   "source": [
    "print(p.stdout.decode())"
   ]
  },
  {
   "cell_type": "markdown",
   "metadata": {},
   "source": [
    "<img src=\"and-1-00.png\">"
   ]
  },
  {
   "cell_type": "markdown",
   "metadata": {},
   "source": [
    "Surprisingly, the AND-1 structure is literally the same as the one depicted in the paper."
   ]
  },
  {
   "cell_type": "markdown",
   "metadata": {},
   "source": [
    "![test](./yes-1-0.png \"ok\")"
   ]
  },
  {
   "cell_type": "markdown",
   "metadata": {},
   "source": [
    "The structure of YES-1 differs as instead of a single long stem, it appears here to have branched into two stems. The paper acknowledges this, saying that the structure is \"predicted to have the potential to form\n",
    "several alternative secondary structures that\n",
    "all preclude formation of stem II.\""
   ]
  },
  {
   "cell_type": "markdown",
   "metadata": {},
   "source": [
    "![test](./not-1-0.png \"ok\")"
   ]
  },
  {
   "cell_type": "markdown",
   "metadata": {},
   "source": [
    "The structure of NOT-1 is also essentially the same as the one depicted in the paper, with a few bases slightly off near the central bubble."
   ]
  },
  {
   "cell_type": "markdown",
   "metadata": {},
   "source": [
    "![test](./or-1-0.png \"ok\")"
   ]
  },
  {
   "cell_type": "markdown",
   "metadata": {},
   "source": [
    "The structure of OR-1 is mostly the same as well, with a long stem that has several bubbles.\n",
    "\n",
    "#### Next, simulate OBS binding in YES-1 and NOT-1. The idea here is that we’d like to see what conformation these riboswitches adopt when their target OBS is bound. To simulate OBS binding, we tell RNAfold to prevent the blue OBS region (that we noted down in our table above) from pairing to any other region of the riboswitch."
   ]
  },
  {
   "cell_type": "code",
   "execution_count": 52,
   "metadata": {},
   "outputs": [
    {
     "name": "stdout",
     "output_type": "stream",
     "text": [
      "..........................xxxxxxxxxxxxxxxxxxxxxx................................\n"
     ]
    }
   ],
   "source": [
    "obs = show_table[\"YES-1\"][\"obs-1\"]\n",
    "constraint = \"\"\n",
    "for i in range(len(seq2a)):\n",
    "    if i >=obs[0] and i <=obs[1]:\n",
    "        constraint += \"x\"\n",
    "    else:\n",
    "        constraint += \".\"\n",
    "print(constraint)"
   ]
  },
  {
   "cell_type": "code",
   "execution_count": 53,
   "metadata": {},
   "outputs": [
    {
     "name": "stdout",
     "output_type": "stream",
     "text": [
      ">yes-1\r\n",
      "GGGCGACCCUGAUGAGCUUGAGUUUAGCUCGUCACUGUCCAGGUUCAAUCAGGCGAAACGGUGAAAGCCGUAGGUUGCCC\r\n",
      "((((((((.......((((((...........................))))))...(((((....))))).)))))))) (-24.50)\r\n",
      "\n"
     ]
    }
   ],
   "source": [
    "seqs = \">yes-1\\n\" + seq2a + \"\\n\" + constraint\n",
    "p=subprocess.run([\"C:\\Program Files (x86)\\ViennaRNA Package\\RNAfold.exe\", \"-C\"], \n",
    "                input = bytes(seqs, 'ascii'),\n",
    "                stdout = subprocess.PIPE, stderr = subprocess.PIPE);\n",
    "print(p.stdout.decode())"
   ]
  },
  {
   "cell_type": "markdown",
   "metadata": {},
   "source": [
    "![test](./yes-1-1.png \"ok\")"
   ]
  },
  {
   "cell_type": "markdown",
   "metadata": {},
   "source": [
    "This does look like the self-cleaving structure in fig. 2 for YES-1."
   ]
  },
  {
   "cell_type": "code",
   "execution_count": 54,
   "metadata": {},
   "outputs": [
    {
     "name": "stdout",
     "output_type": "stream",
     "text": [
      "............................................xxxxxxxxxxxxxxxxxxxxxxx.........................\n"
     ]
    }
   ],
   "source": [
    "obs = show_table[\"NOT-1\"][\"obs-1\"]\n",
    "constraint = \"\"\n",
    "for i in range(len(seq4a)):\n",
    "    if i >=obs[0] and i <=obs[1]:\n",
    "        constraint += \"x\"\n",
    "    else:\n",
    "        constraint += \".\"\n",
    "print(constraint)"
   ]
  },
  {
   "cell_type": "code",
   "execution_count": 55,
   "metadata": {},
   "outputs": [
    {
     "name": "stdout",
     "output_type": "stream",
     "text": [
      ">not-1\r\n",
      "GGCAGGUACAUACAGCUGAUGAGUCCCAAAUAGGACGAAACGCGACACACACCACUAAACCGUGCAGUGUUUUGCGUCCUGUAUUCCACUGC\r\n",
      ".((((....((((((..((((.((((......))))(((((...........................))))).))))))))))....)))) (-16.00)\r\n",
      "\n"
     ]
    }
   ],
   "source": [
    "seqs = \">not-1\\n\" + seq4a + \"\\n\" + constraint\n",
    "p=subprocess.run([\"C:\\Program Files (x86)\\ViennaRNA Package\\RNAfold.exe\", \"-C\"], \n",
    "                input = bytes(seqs, 'ascii'),\n",
    "                stdout = subprocess.PIPE, stderr = subprocess.PIPE);\n",
    "print(p.stdout.decode())"
   ]
  },
  {
   "cell_type": "markdown",
   "metadata": {},
   "source": [
    "![test](./not-1-1.png \"ok\")"
   ]
  },
  {
   "cell_type": "markdown",
   "metadata": {},
   "source": [
    "This is also essentially the same structure as seen in figure 4."
   ]
  },
  {
   "cell_type": "markdown",
   "metadata": {},
   "source": [
    "#### For AND-1 and OR-1, produce the constraint files, run RNAfold, and compare the output files to the paper. Determine whether the red regions (which you noted in your table above) pair with each other for each of the four possible input combinations. Generate a truth table for the AND-1 and the OR-1 riboswitches based on your results."
   ]
  },
  {
   "cell_type": "code",
   "execution_count": 59,
   "metadata": {},
   "outputs": [
    {
     "name": "stdout",
     "output_type": "stream",
     "text": [
      "obs-1    (30, 45)\n",
      "obs-2    (49, 64)\n",
      "red-1    (16, 23)\n",
      "red-2    (70, 77)\n",
      "Name: AND-1, dtype: object\n"
     ]
    }
   ],
   "source": [
    "print(show_table[\"AND-1\"])"
   ]
  },
  {
   "cell_type": "code",
   "execution_count": 62,
   "metadata": {},
   "outputs": [
    {
     "name": "stdout",
     "output_type": "stream",
     "text": [
      "..............................xxxxxxxxxxxxxxxx..................................................................\n"
     ]
    }
   ],
   "source": [
    "obs = show_table[\"AND-1\"][\"obs-1\"]\n",
    "constraint = \"\"\n",
    "for i in range(len(seq5a)):\n",
    "    if i >=obs[0] and i <=obs[1]:\n",
    "        constraint += \"x\"\n",
    "    else:\n",
    "        constraint += \".\"\n",
    "print(constraint)"
   ]
  },
  {
   "cell_type": "code",
   "execution_count": 63,
   "metadata": {},
   "outputs": [
    {
     "name": "stdout",
     "output_type": "stream",
     "text": [
      ">AND-1\r\n",
      "GGGCGACCCUGAUGAGCUUGGUUUAGUAUUUACAGCUCCAUACAUGAGGUGUUAUCCCUAUGCAAGUUCGAUCAGGCGAAACGGUGAAAGCCGUAGGUUGCCCAGAGACAAU\r\n",
      "((((((((((((((((((((..........................(((.(....))))...))))))).))))).....(((((....))))).))))))))......... (-33.90)\r\n",
      "\n"
     ]
    }
   ],
   "source": [
    "seqs = \">AND-1\\n\" + seq5a + \"\\n\" + constraint\n",
    "p=subprocess.run([\"C:\\Program Files (x86)\\ViennaRNA Package\\RNAfold.exe\", \"-C\"], \n",
    "                input = bytes(seqs, 'ascii'),\n",
    "                stdout = subprocess.PIPE, stderr = subprocess.PIPE);\n",
    "print(p.stdout.decode())"
   ]
  },
  {
   "cell_type": "markdown",
   "metadata": {},
   "source": [
    "![test](./and-1-10.png \"ok\")"
   ]
  },
  {
   "cell_type": "code",
   "execution_count": 65,
   "metadata": {},
   "outputs": [
    {
     "name": "stdout",
     "output_type": "stream",
     "text": [
      ".................................................xxxxxxxxxxxxxxxx...............................................\n"
     ]
    }
   ],
   "source": [
    "obs = show_table[\"AND-1\"][\"obs-2\"]\n",
    "constraint = \"\"\n",
    "for i in range(len(seq5a)):\n",
    "    if i >=obs[0] and i <=obs[1]:\n",
    "        constraint += \"x\"\n",
    "    else:\n",
    "        constraint += \".\"\n",
    "print(constraint)"
   ]
  },
  {
   "cell_type": "code",
   "execution_count": 66,
   "metadata": {},
   "outputs": [
    {
     "name": "stdout",
     "output_type": "stream",
     "text": [
      ">AND-1\r\n",
      "GGGCGACCCUGAUGAGCUUGGUUUAGUAUUUACAGCUCCAUACAUGAGGUGUUAUCCCUAUGCAAGUUCGAUCAGGCGAAACGGUGAAAGCCGUAGGUUGCCCAGAGACAAU\r\n",
      "((((((((((.(((....(((...(((.......))))))..))).))..................((((......))))(((((....))))).))))))))......... (-28.30)\r\n",
      "\n"
     ]
    }
   ],
   "source": [
    "seqs = \">AND-1\\n\" + seq5a + \"\\n\" + constraint\n",
    "p=subprocess.run([\"C:\\Program Files (x86)\\ViennaRNA Package\\RNAfold.exe\", \"-C\"], \n",
    "                input = bytes(seqs, 'ascii'),\n",
    "                stdout = subprocess.PIPE, stderr = subprocess.PIPE);\n",
    "print(p.stdout.decode())"
   ]
  },
  {
   "cell_type": "markdown",
   "metadata": {},
   "source": [
    "![test](./and-1-01.png \"ok\")"
   ]
  },
  {
   "cell_type": "code",
   "execution_count": 68,
   "metadata": {},
   "outputs": [
    {
     "name": "stdout",
     "output_type": "stream",
     "text": [
      "..............................xxxxxxxxxxxxxxxx...xxxxxxxxxxxxxxxx...............................................\n"
     ]
    }
   ],
   "source": [
    "obs1 = show_table[\"AND-1\"][\"obs-1\"]\n",
    "obs2 = show_table[\"AND-1\"][\"obs-2\"]\n",
    "constraint = \"\"\n",
    "for i in range(len(seq5a)):\n",
    "    if (i >=obs1[0] and i <=obs1[1]) or (i >=obs2[0] and i <=obs2[1]):\n",
    "        constraint += \"x\"\n",
    "    else:\n",
    "        constraint += \".\"\n",
    "print(constraint)"
   ]
  },
  {
   "cell_type": "code",
   "execution_count": 69,
   "metadata": {},
   "outputs": [
    {
     "name": "stdout",
     "output_type": "stream",
     "text": [
      ">AND-1\r\n",
      "GGGCGACCCUGAUGAGCUUGGUUUAGUAUUUACAGCUCCAUACAUGAGGUGUUAUCCCUAUGCAAGUUCGAUCAGGCGAAACGGUGAAAGCCGUAGGUUGCCCAGAGACAAU\r\n",
      "(((((((((((((((((................................................)))).))))).....(((((....))))).))))))))......... (-26.30)\r\n",
      "\n"
     ]
    }
   ],
   "source": [
    "seqs = \">AND-1\\n\" + seq5a + \"\\n\" + constraint\n",
    "p=subprocess.run([\"C:\\Program Files (x86)\\ViennaRNA Package\\RNAfold.exe\", \"-C\"], \n",
    "                input = bytes(seqs, 'ascii'),\n",
    "                stdout = subprocess.PIPE, stderr = subprocess.PIPE);\n",
    "print(p.stdout.decode())"
   ]
  },
  {
   "cell_type": "markdown",
   "metadata": {},
   "source": [
    "![test](./and-1-11.png \"ok\")"
   ]
  },
  {
   "cell_type": "markdown",
   "metadata": {},
   "source": [
    "## Here, the red section in the and-gate does only bind when both OBS's are bound"
   ]
  },
  {
   "cell_type": "code",
   "execution_count": 71,
   "metadata": {},
   "outputs": [
    {
     "name": "stdout",
     "output_type": "stream",
     "text": [
      "...........................xxxxxxxxxxxxxxxxxxxx........................................................\n",
      ">OR-1\r\n",
      "GGGCGACCCUGAUGAGCUUGGUUGAGUAUUUACAGCUCCAUACAUGAGGUGUUCUCCCUACGCAAGUUCGAUCAGGCGAAACGGUGAAAGCCGUAGGUUGCCC\r\n",
      "((((((((((((((((((((((.(((...........................)))...)).))))))).))))).....(((((....))))).)))))))) (-34.20)\r\n",
      "\n"
     ]
    }
   ],
   "source": [
    "obs = show_table[\"OR-1\"][\"obs-1\"]\n",
    "constraint = \"\"\n",
    "for i in range(len(seq6a)):\n",
    "    if i >=obs[0] and i <=obs[1]:\n",
    "        constraint += \"x\"\n",
    "    else:\n",
    "        constraint += \".\"\n",
    "print(constraint)\n",
    "seqs = \">OR-1\\n\" + seq6a + \"\\n\" + constraint\n",
    "p=subprocess.run([\"C:\\Program Files (x86)\\ViennaRNA Package\\RNAfold.exe\", \"-C\"], \n",
    "                input = bytes(seqs, 'ascii'),\n",
    "                stdout = subprocess.PIPE, stderr = subprocess.PIPE);\n",
    "print(p.stdout.decode())"
   ]
  },
  {
   "cell_type": "markdown",
   "metadata": {},
   "source": [
    "![test](./or-1-10.png \"ok\")"
   ]
  },
  {
   "cell_type": "code",
   "execution_count": 73,
   "metadata": {},
   "outputs": [
    {
     "name": "stdout",
     "output_type": "stream",
     "text": [
      "...............................................xxxxxxxxxxxxxxxxxxxx....................................\n",
      ">OR-1\r\n",
      "GGGCGACCCUGAUGAGCUUGGUUGAGUAUUUACAGCUCCAUACAUGAGGUGUUCUCCCUACGCAAGUUCGAUCAGGCGAAACGGUGAAAGCCGUAGGUUGCCC\r\n",
      "((((((((.......((((((((((..........................................))))))))))...(((((....))))).)))))))) (-28.84)\r\n",
      "\n"
     ]
    }
   ],
   "source": [
    "obs = show_table[\"OR-1\"][\"obs-2\"]\n",
    "constraint = \"\"\n",
    "for i in range(len(seq6a)):\n",
    "    if i >=obs[0] and i <=obs[1]:\n",
    "        constraint += \"x\"\n",
    "    else:\n",
    "        constraint += \".\"\n",
    "print(constraint)\n",
    "seqs = \">OR-1\\n\" + seq6a + \"\\n\" + constraint\n",
    "p=subprocess.run([\"C:\\Program Files (x86)\\ViennaRNA Package\\RNAfold.exe\", \"-C\"], \n",
    "                input = bytes(seqs, 'ascii'),\n",
    "                stdout = subprocess.PIPE, stderr = subprocess.PIPE);\n",
    "print(p.stdout.decode())"
   ]
  },
  {
   "cell_type": "markdown",
   "metadata": {},
   "source": [
    "![test](./or-1-01.png \"ok\")"
   ]
  },
  {
   "cell_type": "code",
   "execution_count": 75,
   "metadata": {},
   "outputs": [
    {
     "name": "stdout",
     "output_type": "stream",
     "text": [
      "...........................xxxxxxxxxxxxxxxxxxxxxxxxxxxxxxxxxxxxxxxx....................................\n"
     ]
    }
   ],
   "source": [
    "obs1 = show_table[\"OR-1\"][\"obs-1\"]\n",
    "obs2 = show_table[\"OR-1\"][\"obs-2\"]\n",
    "constraint = \"\"\n",
    "for i in range(len(seq6a)):\n",
    "    if (i >=obs1[0] and i <=obs1[1]) or (i >=obs2[0] and i <=obs2[1]):\n",
    "        constraint += \"x\"\n",
    "    else:\n",
    "        constraint += \".\"\n",
    "print(constraint)"
   ]
  },
  {
   "cell_type": "code",
   "execution_count": 76,
   "metadata": {},
   "outputs": [
    {
     "name": "stdout",
     "output_type": "stream",
     "text": [
      ">OR-1\r\n",
      "GGGCGACCCUGAUGAGCUUGGUUGAGUAUUUACAGCUCCAUACAUGAGGUGUUCUCCCUACGCAAGUUCGAUCAGGCGAAACGGUGAAAGCCGUAGGUUGCCC\r\n",
      "((((((((.......((((((((((..........................................))))))))))...(((((....))))).)))))))) (-28.84)\r\n",
      "\n"
     ]
    }
   ],
   "source": [
    "seqs = \">OR-1\\n\" + seq6a + \"\\n\" + constraint\n",
    "p=subprocess.run([\"C:\\Program Files (x86)\\ViennaRNA Package\\RNAfold.exe\", \"-C\"], \n",
    "                input = bytes(seqs, 'ascii'),\n",
    "                stdout = subprocess.PIPE, stderr = subprocess.PIPE);\n",
    "print(p.stdout.decode())"
   ]
  },
  {
   "cell_type": "markdown",
   "metadata": {},
   "source": [
    "![test](./or-1-11.png \"ok\")"
   ]
  },
  {
   "cell_type": "markdown",
   "metadata": {},
   "source": [
    "## Here the red section of the or gate does bind when either site is bound!"
   ]
  },
  {
   "cell_type": "markdown",
   "metadata": {},
   "source": [
    "# The truth table for AND-1 would be that of a standard and gate, and the same for OR-1! According to RNAfold, these two riboswitches should work as the paper claims they do."
   ]
  },
  {
   "cell_type": "code",
   "execution_count": null,
   "metadata": {
    "collapsed": true
   },
   "outputs": [],
   "source": []
  }
 ],
 "metadata": {
  "kernelspec": {
   "display_name": "Python 3",
   "language": "python",
   "name": "python3"
  },
  "language_info": {
   "codemirror_mode": {
    "name": "ipython",
    "version": 3
   },
   "file_extension": ".py",
   "mimetype": "text/x-python",
   "name": "python",
   "nbconvert_exporter": "python",
   "pygments_lexer": "ipython3",
   "version": "3.6.3"
  }
 },
 "nbformat": 4,
 "nbformat_minor": 2
}
